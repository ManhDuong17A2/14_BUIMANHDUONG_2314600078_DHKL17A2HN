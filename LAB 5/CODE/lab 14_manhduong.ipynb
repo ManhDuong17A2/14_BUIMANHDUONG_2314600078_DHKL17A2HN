{
 "cells": [
  {
   "cell_type": "code",
   "execution_count": 2,
   "metadata": {},
   "outputs": [
    {
     "data": {
      "text/plain": [
       "__main__.SimpleTask"
      ]
     },
     "execution_count": 2,
     "metadata": {},
     "output_type": "execute_result"
    }
   ],
   "source": [
    "\n",
    "import time\n",
    "class SimpleTask:\n",
    "    def run_task(self):\n",
    "        for i in range(1,11):\n",
    "            print('Đã in lần thứ :' ,i)\n",
    "            time.sleep(2)  # dừng 2 giây giữa mỗi lần in\n",
    "def main():\n",
    "    task = SimpleTask()\n",
    "    task.run_task\n",
    "if __name__ == \"__main__\":\n",
    "    main()\n",
    "\n",
    "\n"
   ]
  }
 ],
 "metadata": {
  "kernelspec": {
   "display_name": "base",
   "language": "python",
   "name": "python3"
  },
  "language_info": {
   "codemirror_mode": {
    "name": "ipython",
    "version": 3
   },
   "file_extension": ".py",
   "mimetype": "text/x-python",
   "name": "python",
   "nbconvert_exporter": "python",
   "pygments_lexer": "ipython3",
   "version": "3.12.4"
  }
 },
 "nbformat": 4,
 "nbformat_minor": 2
}
