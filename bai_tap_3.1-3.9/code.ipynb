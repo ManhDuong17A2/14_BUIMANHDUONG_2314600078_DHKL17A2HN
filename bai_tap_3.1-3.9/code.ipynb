{
 "cells": [
  {
   "cell_type": "markdown",
   "metadata": {},
   "source": [
    "## BAI TAP 3.1 - 3.9 GIAO TRINH \n"
   ]
  },
  {
   "cell_type": "code",
   "execution_count": 37,
   "metadata": {},
   "outputs": [],
   "source": [
    "import numpy as np"
   ]
  },
  {
   "cell_type": "code",
   "execution_count": null,
   "metadata": {},
   "outputs": [],
   "source": [
    "#3.1 \n",
    "import numpy as np \n",
    "np.__version__ \n"
   ]
  },
  {
   "cell_type": "code",
   "execution_count": null,
   "metadata": {},
   "outputs": [],
   "source": [
    "#3.2 \n",
    "#1\n",
    "mang=[0,1,2,3,4,5,6,7,8,9]\n",
    "arr1 = np.array(mang)\n",
    "print (arr1)\n",
    "print (arr1.itemsize)\n",
    "print (arr1.dtype)\n",
    "#2\n",
    "arr_odd=arr1.copy()\n",
    "arr_even=arr1.copy()\n",
    "print (arr_odd)\n",
    "print (arr_even)\n",
    "#3 \n",
    "arr_update_1=arr1.copy()\n",
    "for i in range (len(arr_update_1)):\n",
    "    if arr_update_1[i]%2 ==0 :\n",
    "        arr_update_1[i]=100\n",
    "\n",
    "print (arr_update_1)\n",
    "\n"
   ]
  },
  {
   "cell_type": "code",
   "execution_count": null,
   "metadata": {},
   "outputs": [],
   "source": [
    "#3.3\n",
    "#1\n",
    "arr_a = np.array([1,2,3,2,3,4,3,4,5,6])\n",
    "arr_b = np.array([7,2,10,2,7,4,9,4,9,8])\n",
    "arr_c=np.array([])\n",
    "arr_d=np.array([])\n",
    "for i in arr_a:\n",
    "    if i in arr_b:\n",
    "        arr_c=np.append(arr_c,i)   \n",
    "print (arr_c)\n",
    "\n",
    "\n",
    "#2\n",
    "for i in arr_a:\n",
    "    if  i not in arr_b:\n",
    "        arr_d=np.append(arr_d,i)\n",
    "print (arr_d)\n",
    "#3\n",
    "arr_e=np.array([2,6,1,9,10,3,27,8,6,25,16])\n",
    "arr_f=np.array([])\n",
    "k=[5,6,7,8,9,10]\n",
    "for i in arr_e:\n",
    "    if i in k:\n",
    "        arr_f=np.append(arr_f,i)\n",
    "print (arr_f)\n"
   ]
  },
  {
   "cell_type": "code",
   "execution_count": null,
   "metadata": {},
   "outputs": [],
   "source": [
    "#3.4\n",
    "#1\n",
    "arr_zeros = np.zeros(10)\n",
    "arr_zeros[4]=1\n",
    "arr_zeros\n",
    "#2\n",
    "arr_h=np.array([i for i in range (10,25)])\n",
    "print (np.sort(arr_h)[::-1])\n",
    "#3\n",
    "arr_k=np.array([1,2,0,8,2,0,1,3,0,5,0])\n",
    "arr_l=np.array([])\n",
    "for i in arr_k:\n",
    "   if i !=0:\n",
    "      arr_l=np.append(arr_l,i)\n",
    "print (arr_l)\n",
    "#4\n",
    "arr_l=np.append(arr_l,10)\n",
    "arr_l=np.append(arr_l,20)\n",
    "print (arr_l)\n",
    "#5\n",
    "arr_l=np.insert(arr_l,5,100)\n",
    "print (arr_l)\n",
    "#6\n",
    "arr_l=np.delete(arr_l,0)\n",
    "arr_l=np.delete(arr_l,0)\n",
    "arr_l=np.delete(arr_l,0)\n",
    "arr_l\n",
    "\n"
   ]
  },
  {
   "cell_type": "code",
   "execution_count": 93,
   "metadata": {},
   "outputs": [
    {
     "name": "stdout",
     "output_type": "stream",
     "text": [
      "[[0 1 2]\n",
      " [3 4 5]\n",
      " [6 7 8]]\n",
      "[[2 1 0]\n",
      " [5 4 3]\n",
      " [8 7 6]]\n",
      "[[5 4 3]\n",
      " [2 1 0]\n",
      " [8 7 6]]\n",
      "[[8 7 6]\n",
      " [2 1 0]\n",
      " [5 4 3]]\n",
      "[[3 4 5]\n",
      " [0 1 2]\n",
      " [6 7 8]]\n"
     ]
    }
   ],
   "source": [
    "#3.6\n",
    "#1\n",
    "arr=np.full((3,3),True,bool)\n",
    "arr\n",
    "#2\n",
    "arr_ID=np.array([0,1,2,3,4,5,6,7,8])\n",
    "arr_ID2=arr_ID.reshape((3,3))\n",
    "print (arr_ID2)\n",
    "#3\n",
    "arr_ID2[:,[0,2]]=arr_ID2[:,[2,0]] \n",
    "print (arr_ID2)\n",
    "#4\n",
    "arr_ID2[[0,1],:]=arr_ID2[[1,0],:] \n",
    "print (arr_ID2)\n",
    "#5\n",
    "print (arr_ID2[::-1])\n",
    "print (arr_ID2[:,::-1])\n",
    "\n",
    "\n"
   ]
  }
 ],
 "metadata": {
  "kernelspec": {
   "display_name": "Python 3",
   "language": "python",
   "name": "python3"
  },
  "language_info": {
   "codemirror_mode": {
    "name": "ipython",
    "version": 3
   },
   "file_extension": ".py",
   "mimetype": "text/x-python",
   "name": "python",
   "nbconvert_exporter": "python",
   "pygments_lexer": "ipython3",
   "version": "3.12.0"
  }
 },
 "nbformat": 4,
 "nbformat_minor": 2
}
