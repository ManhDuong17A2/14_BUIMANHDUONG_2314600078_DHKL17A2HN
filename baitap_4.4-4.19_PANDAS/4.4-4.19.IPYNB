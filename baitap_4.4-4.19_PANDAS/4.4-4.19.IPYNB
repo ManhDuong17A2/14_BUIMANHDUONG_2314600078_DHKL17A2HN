{
 "cells": [
  {
   "cell_type": "markdown",
   "metadata": {},
   "source": [
    "## đây là bài tâpj pandas 4.4-4.19 "
   ]
  },
  {
   "cell_type": "code",
   "execution_count": 3,
   "metadata": {},
   "outputs": [
    {
     "name": "stdout",
     "output_type": "stream",
     "text": [
      "2.3772981307967154\n",
      "5.7214598721878716\n",
      "9.777826576386232\n",
      "12.832068647236317\n",
      "20.33674726249724\n"
     ]
    }
   ],
   "source": [
    "#4.55\n",
    "import pandas as pd  \n",
    "import numpy as np  \n",
    "\n",
    "ser = pd.Series(np.random.normal(10, 5, 25))\n",
    "\n",
    "#1 \n",
    "min_value = ser.min()  \n",
    "print( min_value)\n",
    "#2  \n",
    "percentile_25 = ser.quantile(0.25)  \n",
    "print( percentile_25)\n",
    "\n",
    "#3 \n",
    "median = ser.median()  \n",
    "print( median)\n",
    "\n",
    "#4  \n",
    "percentile_75 = ser.quantile(0.75)  \n",
    "print( percentile_75)\n",
    "\n",
    "#5.  \n",
    "max_value = ser.max()  \n",
    "print( max_value)\n"
   ]
  },
  {
   "cell_type": "code",
   "execution_count": 5,
   "metadata": {},
   "outputs": [
    {
     "name": "stdout",
     "output_type": "stream",
     "text": [
      "b    7\n",
      "h    5\n",
      "c    4\n",
      "f    4\n",
      "g    4\n",
      "d    3\n",
      "e    2\n",
      "a    1\n",
      "Name: count, dtype: int64\n"
     ]
    }
   ],
   "source": [
    "#4.6\n",
    "ser = pd.Series(np.take(list('abcdefgh'), np.random.randint(8, size=30)))\n",
    "value_dem = ser.value_counts()\n",
    "print(value_dem)\n"
   ]
  },
  {
   "cell_type": "code",
   "execution_count": 9,
   "metadata": {},
   "outputs": [
    {
     "name": "stdout",
     "output_type": "stream",
     "text": [
      "0         1\n",
      "1         4\n",
      "2     Other\n",
      "3     Other\n",
      "4         4\n",
      "5     Other\n",
      "6         1\n",
      "7     Other\n",
      "8         1\n",
      "9         4\n",
      "10        4\n",
      "11    Other\n",
      "dtype: object\n"
     ]
    }
   ],
   "source": [
    "#4.7\n",
    "np.random.RandomState(100)  \n",
    "ser = pd.Series(np.random.randint(1, 5, [12])) \n",
    "values = ser.value_counts().index[:2]  \n",
    "#thaythethaythe\n",
    "ser_thay = ser.apply(lambda x: x if x in values else 'Other')  \n",
    "print(ser_thay)\n"
   ]
  },
  {
   "cell_type": "code",
   "execution_count": null,
   "metadata": {},
   "outputs": [],
   "source": [
    "#4.8\n",
    "ser = pd.Series(np.random.random(20))\n",
    "tenten = [f'Decile_{i+1}' for i in range(10)]  \n",
    "ser_thaydoi= pd.qcut(ser, 10, labels=tenten)  \n",
    "print(ser_thaydoi)\n",
    "\n"
   ]
  },
  {
   "cell_type": "code",
   "execution_count": 14,
   "metadata": {},
   "outputs": [
    {
     "name": "stdout",
     "output_type": "stream",
     "text": [
      "7x5 :\n",
      "   0  1  2  3  4\n",
      "0  9  6  7  6  8\n",
      "1  9  8  4  5  7\n",
      "2  3  8  5  6  7\n",
      "3  4  2  5  6  8\n",
      "4  8  2  4  8  3\n",
      "5  4  2  4  3  2\n",
      "6  5  1  5  3  2\n"
     ]
    }
   ],
   "source": [
    "#4.9\n",
    "ser = pd.Series(np.random.randint(1, 10, 35))\n",
    "df = ser.values.reshape(7, 5)  \n",
    "df = pd.DataFrame(df)  \n",
    "\n",
    "print(\"7x5 :\")\n",
    "print(df)\n"
   ]
  },
  {
   "cell_type": "code",
   "execution_count": 17,
   "metadata": {},
   "outputs": [
    {
     "name": "stdout",
     "output_type": "stream",
     "text": [
      "Vị trí của các số là bội của 3:\n",
      "Index([1, 2, 3], dtype='int64')\n"
     ]
    }
   ],
   "source": [
    "#4.1010\n",
    "ser = pd.Series(np.random.randint(1, 10, 7))\n",
    "vitri = ser[ser % 3 == 0].index  \n",
    "print(\"Vị trí của các số là bội của 3:\")\n",
    "print(vitri)\n"
   ]
  },
  {
   "cell_type": "code",
   "execution_count": 18,
   "metadata": {},
   "outputs": [
    {
     "name": "stdout",
     "output_type": "stream",
     "text": [
      "0     a\n",
      "4     e\n",
      "8     i\n",
      "14    o\n",
      "20    u\n",
      "dtype: object\n"
     ]
    }
   ],
   "source": [
    "#4.11\n",
    "ser = pd.Series(list('abcdefghijklmnopqrstuvwxyz'))  \n",
    "pos = [0, 4, 8, 14, 20]\n",
    "k = ser.iloc[pos]  \n",
    "\n",
    "print(k)\n"
   ]
  },
  {
   "cell_type": "code",
   "execution_count": 21,
   "metadata": {},
   "outputs": [
    {
     "name": "stdout",
     "output_type": "stream",
     "text": [
      "0    0\n",
      "1    1\n",
      "2    2\n",
      "3    3\n",
      "4    4\n",
      "0    a\n",
      "1    b\n",
      "2    c\n",
      "3    d\n",
      "4    e\n",
      "5    a\n",
      "6    b\n",
      "7    c\n",
      "8    d\n",
      "9    e\n",
      "dtype: object\n",
      "   column1 column2\n",
      "0      0.0       a\n",
      "1      1.0       b\n",
      "2      2.0       c\n",
      "3      3.0       d\n",
      "4      4.0       e\n",
      "5      NaN       a\n",
      "6      NaN       b\n",
      "7      NaN       c\n",
      "8      NaN       d\n",
      "9      NaN       e\n"
     ]
    }
   ],
   "source": [
    "#4.12\n",
    "import pandas as pd\n",
    "series1 = pd.Series(range(5))\n",
    "series2 = pd.Series(list('abcdeabcde'))\n",
    "df_11= pd.concat([series1, series2])\n",
    "df = pd.DataFrame({'column1': series1, 'column2': series2})\n",
    "print(df_11)\n",
    "print(df)"
   ]
  },
  {
   "cell_type": "code",
   "execution_count": 22,
   "metadata": {},
   "outputs": [
    {
     "name": "stdout",
     "output_type": "stream",
     "text": [
      "0    10\n",
      "4     3\n",
      "5     1\n",
      "8    13\n",
      "dtype: int64\n"
     ]
    }
   ],
   "source": [
    "#4.13\n",
    "import pandas as pd\n",
    "\n",
    "series1= pd.Series([10, 9, 6, 5, 3, 1, 12, 8, 13])\n",
    "series2 =pd.Series([1, 3, 10, 13])\n",
    "\n",
    "kk = series1[series1.isin(series2)]\n",
    "print(kk)"
   ]
  },
  {
   "cell_type": "code",
   "execution_count": 23,
   "metadata": {},
   "outputs": [
    {
     "name": "stdout",
     "output_type": "stream",
     "text": [
      "20.25\n",
      "26.49879566013801\n"
     ]
    }
   ],
   "source": [
    "#4.14\n",
    "import pandas as pd\n",
    "import numpy as np\n",
    "\n",
    "series1=pd.Series(range(10))\n",
    "series2=series1 + np.random.random(10)\n",
    "\n",
    "mean_1=series1.mean()**2\n",
    "mean_2=series2.mean()**2\n",
    "print(mean_1)\n",
    "print(mean_2)"
   ]
  },
  {
   "cell_type": "code",
   "execution_count": 24,
   "metadata": {},
   "outputs": [
    {
     "name": "stdout",
     "output_type": "stream",
     "text": [
      "0     How\n",
      "1      To\n",
      "2    Kick\n",
      "3       A\n",
      "dtype: object\n"
     ]
    }
   ],
   "source": [
    "#4.15\n",
    "\n",
    "series=pd.Series(['how', 'to', 'kick', 'a'])\n",
    "series_upper=series.str.title()\n",
    "print(series_upper)"
   ]
  },
  {
   "cell_type": "code",
   "execution_count": 25,
   "metadata": {},
   "outputs": [
    {
     "name": "stdout",
     "output_type": "stream",
     "text": [
      "0    NaN\n",
      "1    2.0\n",
      "2    3.0\n",
      "3    4.0\n",
      "4    5.0\n",
      "5    6.0\n",
      "6    6.0\n",
      "7    8.0\n",
      "dtype: float64\n"
     ]
    }
   ],
   "source": [
    "#4.1616\n",
    "series = pd.Series([1, 3, 6, 10, 15, 21, 27, 35])\n",
    "diff = series.diff()\n",
    "print(diff)"
   ]
  },
  {
   "cell_type": "code",
   "execution_count": 32,
   "metadata": {},
   "outputs": [
    {
     "name": "stdout",
     "output_type": "stream",
     "text": [
      "1    rameses@egypt.com\n",
      "2           small@t.co\n",
      "3    tarendra@modi.com\n",
      "dtype: object\n"
     ]
    },
    {
     "name": "stderr",
     "output_type": "stream",
     "text": [
      "<>:5: SyntaxWarning: invalid escape sequence '\\.'\n",
      "<>:5: SyntaxWarning: invalid escape sequence '\\.'\n",
      "C:\\Users\\ADMIN\\AppData\\Local\\Temp\\ipykernel_15068\\3765188968.py:5: SyntaxWarning: invalid escape sequence '\\.'\n",
      "  email_pattern = \"[A-Za-z0-9._%+-]+@[A-Za-z0-9.-]+\\.[A-Za-z]{2,}\"\n"
     ]
    }
   ],
   "source": [
    "#4.18\n",
    "import pandas as pd\n",
    "\n",
    "emails = pd.Series([\"buying books at amazon.com\", \"rameses@egypt.com\", \"small@t.co\", \"tarendra@modi.com\"])\n",
    "email_pattern = \"[A-Za-z0-9._%+-]+@[A-Za-z0-9.-]+\\.[A-Za-z]{2,}\"\n",
    "valid_emails = emails[emails.str.contains(email_pattern, regex=True)]\n",
    "print(valid_emails)\n"
   ]
  }
 ],
 "metadata": {
  "kernelspec": {
   "display_name": "Python 3",
   "language": "python",
   "name": "python3"
  },
  "language_info": {
   "codemirror_mode": {
    "name": "ipython",
    "version": 3
   },
   "file_extension": ".py",
   "mimetype": "text/x-python",
   "name": "python",
   "nbconvert_exporter": "python",
   "pygments_lexer": "ipython3",
   "version": "3.12.0"
  }
 },
 "nbformat": 4,
 "nbformat_minor": 2
}
