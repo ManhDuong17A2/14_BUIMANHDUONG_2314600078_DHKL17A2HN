{
 "cells": [
  {
   "cell_type": "markdown",
   "metadata": {},
   "source": [
    "## bai tap 4.2 trang 238 _ buoi1 pandas "
   ]
  },
  {
   "cell_type": "code",
   "execution_count": 1,
   "metadata": {},
   "outputs": [],
   "source": [
    "import numpy as np \n",
    "import pandas as pd \n"
   ]
  },
  {
   "cell_type": "code",
   "execution_count": 5,
   "metadata": {},
   "outputs": [
    {
     "data": {
      "text/html": [
       "<div>\n",
       "<style scoped>\n",
       "    .dataframe tbody tr th:only-of-type {\n",
       "        vertical-align: middle;\n",
       "    }\n",
       "\n",
       "    .dataframe tbody tr th {\n",
       "        vertical-align: top;\n",
       "    }\n",
       "\n",
       "    .dataframe thead th {\n",
       "        text-align: right;\n",
       "    }\n",
       "</style>\n",
       "<table border=\"1\" class=\"dataframe\">\n",
       "  <thead>\n",
       "    <tr style=\"text-align: right;\">\n",
       "      <th></th>\n",
       "      <th>q</th>\n",
       "      <th>w</th>\n",
       "      <th>e</th>\n",
       "      <th>r</th>\n",
       "      <th>t</th>\n",
       "      <th>y</th>\n",
       "      <th>u</th>\n",
       "      <th>i</th>\n",
       "      <th>o</th>\n",
       "      <th>p</th>\n",
       "      <th>...</th>\n",
       "      <th>j</th>\n",
       "      <th>k</th>\n",
       "      <th>l</th>\n",
       "      <th>z</th>\n",
       "      <th>x</th>\n",
       "      <th>c</th>\n",
       "      <th>v</th>\n",
       "      <th>b</th>\n",
       "      <th>n</th>\n",
       "      <th>m</th>\n",
       "    </tr>\n",
       "  </thead>\n",
       "  <tbody>\n",
       "    <tr>\n",
       "      <th>0</th>\n",
       "      <td>0</td>\n",
       "      <td>1</td>\n",
       "      <td>2</td>\n",
       "      <td>3</td>\n",
       "      <td>4</td>\n",
       "      <td>5</td>\n",
       "      <td>6</td>\n",
       "      <td>7</td>\n",
       "      <td>8</td>\n",
       "      <td>9</td>\n",
       "      <td>...</td>\n",
       "      <td>16</td>\n",
       "      <td>17</td>\n",
       "      <td>18</td>\n",
       "      <td>19</td>\n",
       "      <td>20</td>\n",
       "      <td>21</td>\n",
       "      <td>22</td>\n",
       "      <td>23</td>\n",
       "      <td>24</td>\n",
       "      <td>25</td>\n",
       "    </tr>\n",
       "  </tbody>\n",
       "</table>\n",
       "<p>1 rows × 26 columns</p>\n",
       "</div>"
      ],
      "text/plain": [
       "   q  w  e  r  t  y  u  i  o  p  ...   j   k   l   z   x   c   v   b   n   m\n",
       "0  0  1  2  3  4  5  6  7  8  9  ...  16  17  18  19  20  21  22  23  24  25\n",
       "\n",
       "[1 rows x 26 columns]"
      ]
     },
     "execution_count": 5,
     "metadata": {},
     "output_type": "execute_result"
    }
   ],
   "source": [
    "mylist = list ('qwertyuiopasdfghjklzxcvbnm')\n",
    "myarr = np.arange(26)\n",
    "mydict= dict(zip(mylist,myarr))\n",
    "ser =pd.Series(mydict)\n",
    "ser \n",
    "data=pd.DataFrame(ser)\n",
    "data_1=data.T\n",
    "data_1"
   ]
  }
 ],
 "metadata": {
  "kernelspec": {
   "display_name": "Python 3",
   "language": "python",
   "name": "python3"
  },
  "language_info": {
   "codemirror_mode": {
    "name": "ipython",
    "version": 3
   },
   "file_extension": ".py",
   "mimetype": "text/x-python",
   "name": "python",
   "nbconvert_exporter": "python",
   "pygments_lexer": "ipython3",
   "version": "3.12.0"
  }
 },
 "nbformat": 4,
 "nbformat_minor": 2
}
