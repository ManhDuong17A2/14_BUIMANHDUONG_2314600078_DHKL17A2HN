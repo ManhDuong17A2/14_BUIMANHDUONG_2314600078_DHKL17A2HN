{
 "cells": [
  {
   "cell_type": "markdown",
   "metadata": {},
   "source": [
    "## bai tap 4.1 trang 238"
   ]
  },
  {
   "cell_type": "code",
   "execution_count": 1,
   "metadata": {},
   "outputs": [],
   "source": [
    "import numpy as np \n",
    "import pandas as pd"
   ]
  },
  {
   "cell_type": "code",
   "execution_count": 2,
   "metadata": {},
   "outputs": [
    {
     "name": "stdout",
     "output_type": "stream",
     "text": [
      "['q', 'w', 'e', 'r', 't', 'y', 'u', 'i', 'o', 'p', 'a', 's', 'd', 'f', 'g', 'h', 'j', 'k', 'l', 'z', 'x', 'c', 'v', 'b', 'n', 'm']\n",
      "['q' 'w' 'e' 'r' 't' 'y' 'u' 'i' 'o' 'p' 'a' 's' 'd' 'f' 'g' 'h' 'j' 'k'\n",
      " 'l' 'z' 'x' 'c' 'v' 'b' 'n' 'm']\n",
      "{'q': 'q', 'w': 'w', 'e': 'e', 'r': 'r', 't': 't', 'y': 'y', 'u': 'u', 'i': 'i', 'o': 'o', 'p': 'p', 'a': 'a', 's': 's', 'd': 'd', 'f': 'f', 'g': 'g', 'h': 'h', 'j': 'j', 'k': 'k', 'l': 'l', 'z': 'z', 'x': 'x', 'c': 'c', 'v': 'v', 'b': 'b', 'n': 'n', 'm': 'm'}\n"
     ]
    }
   ],
   "source": [
    "#dulieu \n",
    "mylist= list ('qwertyuiopasdfghjklzxcvbnm')\n",
    "myarr=np.array(mylist)\n",
    "mydict=dict(zip(mylist,myarr))\n",
    "print (mylist)\n",
    "print (myarr)\n",
    "print (mydict)"
   ]
  },
  {
   "cell_type": "code",
   "execution_count": 3,
   "metadata": {},
   "outputs": [
    {
     "name": "stdout",
     "output_type": "stream",
     "text": [
      "0     q\n",
      "1     w\n",
      "2     e\n",
      "3     r\n",
      "4     t\n",
      "5     y\n",
      "6     u\n",
      "7     i\n",
      "8     o\n",
      "9     p\n",
      "10    a\n",
      "11    s\n",
      "12    d\n",
      "13    f\n",
      "14    g\n",
      "15    h\n",
      "16    j\n",
      "17    k\n",
      "18    l\n",
      "19    z\n",
      "20    x\n",
      "21    c\n",
      "22    v\n",
      "23    b\n",
      "24    n\n",
      "25    m\n",
      "dtype: object\n",
      "0     q\n",
      "1     w\n",
      "2     e\n",
      "3     r\n",
      "4     t\n",
      "5     y\n",
      "6     u\n",
      "7     i\n",
      "8     o\n",
      "9     p\n",
      "10    a\n",
      "11    s\n",
      "12    d\n",
      "13    f\n",
      "14    g\n",
      "15    h\n",
      "16    j\n",
      "17    k\n",
      "18    l\n",
      "19    z\n",
      "20    x\n",
      "21    c\n",
      "22    v\n",
      "23    b\n",
      "24    n\n",
      "25    m\n",
      "dtype: object\n",
      "0     q\n",
      "1     w\n",
      "2     e\n",
      "3     r\n",
      "4     t\n",
      "5     y\n",
      "6     u\n",
      "7     i\n",
      "8     o\n",
      "9     p\n",
      "10    a\n",
      "11    s\n",
      "12    d\n",
      "13    f\n",
      "14    g\n",
      "15    h\n",
      "16    j\n",
      "17    k\n",
      "18    l\n",
      "19    z\n",
      "20    x\n",
      "21    c\n",
      "22    v\n",
      "23    b\n",
      "24    n\n",
      "25    m\n",
      "dtype: object\n"
     ]
    }
   ],
   "source": [
    "chuoi_pandas_1= pd.Series(mylist)\n",
    "chuoi_pandas_2=pd.Series(mylist)\n",
    "chuoi_pandas_3=pd.Series(myarr)\n",
    "\n",
    "print (chuoi_pandas_1)\n",
    "print (chuoi_pandas_2)\n",
    "print (chuoi_pandas_3)"
   ]
  }
 ],
 "metadata": {
  "kernelspec": {
   "display_name": "Python 3",
   "language": "python",
   "name": "python3"
  },
  "language_info": {
   "codemirror_mode": {
    "name": "ipython",
    "version": 3
   },
   "file_extension": ".py",
   "mimetype": "text/x-python",
   "name": "python",
   "nbconvert_exporter": "python",
   "pygments_lexer": "ipython3",
   "version": "3.12.0"
  }
 },
 "nbformat": 4,
 "nbformat_minor": 2
}
